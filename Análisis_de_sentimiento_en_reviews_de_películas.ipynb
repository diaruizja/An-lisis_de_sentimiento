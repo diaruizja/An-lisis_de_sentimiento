{
  "nbformat": 4,
  "nbformat_minor": 0,
  "metadata": {
    "kernelspec": {
      "display_name": "Python 3",
      "language": "python",
      "name": "python3"
    },
    "language_info": {
      "codemirror_mode": {
        "name": "ipython",
        "version": 3
      },
      "file_extension": ".py",
      "mimetype": "text/x-python",
      "name": "python",
      "nbconvert_exporter": "python",
      "pygments_lexer": "ipython3",
      "version": "3.6.5"
    },
    "colab": {
      "name": "Análisis de sentimiento en reviews de películas.ipynb",
      "provenance": [],
      "collapsed_sections": [],
      "include_colab_link": true
    },
    "accelerator": "GPU"
  },
  "cells": [
    {
      "cell_type": "markdown",
      "metadata": {
        "id": "view-in-github",
        "colab_type": "text"
      },
      "source": [
        "<a href=\"https://colab.research.google.com/github/diaruizja/An-lisis_de_sentimiento/blob/master/An%C3%A1lisis_de_sentimiento_en_reviews_de_pel%C3%ADculas.ipynb\" target=\"_parent\"><img src=\"https://colab.research.google.com/assets/colab-badge.svg\" alt=\"Open In Colab\"/></a>"
      ]
    },
    {
      "cell_type": "markdown",
      "metadata": {
        "id": "tPlpkYW42FGn",
        "colab_type": "text"
      },
      "source": [
        "# Proyecto 5: Análisis de sentimiento en reviews de películas"
      ]
    },
    {
      "cell_type": "markdown",
      "metadata": {
        "id": "7i7PMQvo2FGo",
        "colab_type": "text"
      },
      "source": [
        "En este proyecto vamos a trabajar con un dataset de reviews de películas. El objectivo es clasificar cada comentario de acuerdo al sentimiento positivo o negativo hacia la película. Para hacerlo, vamos a trabajar con procesamiento de texto para luego aplicar las diferentes técnicas predictivas que hemos visto."
      ]
    },
    {
      "cell_type": "markdown",
      "metadata": {
        "id": "-2uME0C92FGp",
        "colab_type": "text"
      },
      "source": [
        "## Dataset"
      ]
    },
    {
      "cell_type": "code",
      "metadata": {
        "id": "mSvPr1FM3myO",
        "colab_type": "code",
        "colab": {}
      },
      "source": [
        "import matplotlib.pyplot as plt\n",
        "import seaborn as sns\n",
        "import numpy as np\n",
        "import pandas as pd\n",
        "\n",
        "sns.set()"
      ],
      "execution_count": null,
      "outputs": []
    },
    {
      "cell_type": "code",
      "metadata": {
        "id": "H1-xscPKaLFn",
        "colab_type": "code",
        "colab": {
          "base_uri": "https://localhost:8080/",
          "height": 34
        },
        "outputId": "6e2f31bf-7b9e-427f-9d97-e60edd1357d0"
      },
      "source": [
        "from google.colab import drive\n",
        "drive.mount('/content/drive')"
      ],
      "execution_count": null,
      "outputs": [
        {
          "output_type": "stream",
          "text": [
            "Drive already mounted at /content/drive; to attempt to forcibly remount, call drive.mount(\"/content/drive\", force_remount=True).\n"
          ],
          "name": "stdout"
        }
      ]
    },
    {
      "cell_type": "markdown",
      "metadata": {
        "id": "Dmoxz1EB2FGq",
        "colab_type": "text"
      },
      "source": [
        "En primer lugar, carguemos las reviews para comenzar a procesarlas. En este caso no tenemos un archivo `.csv`, sino un directorio estructurado de la siguiente forma: \n",
        "```\n",
        "movie_reviews/\n",
        "  neg/\n",
        "  pos/\n",
        "```\n",
        "`sklearn` nos provee de la función `load_files` que permite recorrer este tipo de estructuras. "
      ]
    },
    {
      "cell_type": "code",
      "metadata": {
        "id": "1H-H1Le42FGr",
        "colab_type": "code",
        "colab": {}
      },
      "source": [
        "import warnings\n",
        "warnings.filterwarnings(\"ignore\")\n",
        "import sklearn\n",
        "from sklearn.datasets import load_files\n",
        "moviedir = r'/content/drive/My Drive/Data Science_ACÁMICA/Entregas de proyectos/Entrega #5/movie_reviews' \n",
        "movie_reviews = load_files(moviedir, shuffle=True)"
      ],
      "execution_count": null,
      "outputs": []
    },
    {
      "cell_type": "markdown",
      "metadata": {
        "id": "HoPiRxXu2FGw",
        "colab_type": "text"
      },
      "source": [
        "Ahora en la variable `movies` tendremos guardadas las reviews (`movies.data`) y su sentimiento (`movies.target`).\n",
        "Veamos cuantas reviews tenemos en total:"
      ]
    },
    {
      "cell_type": "code",
      "metadata": {
        "id": "lSwTVBqL2FGw",
        "colab_type": "code",
        "colab": {
          "base_uri": "https://localhost:8080/",
          "height": 34
        },
        "outputId": "d0291b84-2672-4740-eae8-a78ee034fd51"
      },
      "source": [
        "print(\"Tenemos {} reviews, con clases {},\".format(len(movie_reviews.data), movie_reviews.target_names))"
      ],
      "execution_count": null,
      "outputs": [
        {
          "output_type": "stream",
          "text": [
            "Tenemos 2000 reviews, con clases ['neg', 'pos'],\n"
          ],
          "name": "stdout"
        }
      ]
    },
    {
      "cell_type": "markdown",
      "metadata": {
        "id": "I7k137ud2FG0",
        "colab_type": "text"
      },
      "source": [
        "Analizando la estructura de los documentos, veamos como luce una muestra de `movies.data`:"
      ]
    },
    {
      "cell_type": "code",
      "metadata": {
        "id": "NhjmyeFM2FG1",
        "colab_type": "code",
        "colab": {
          "base_uri": "https://localhost:8080/",
          "height": 54
        },
        "outputId": "4e652397-ae36-4257-97cc-3c61717f9362"
      },
      "source": [
        "movie_reviews.data[0][:500]"
      ],
      "execution_count": null,
      "outputs": [
        {
          "output_type": "execute_result",
          "data": {
            "text/plain": [
              "b\"arnold schwarzenegger has been an icon for action enthusiasts , since the late 80's , but lately his films have been very sloppy and the one-liners are getting worse . \\nit's hard seeing arnold as mr . freeze in batman and robin , especially when he says tons of ice jokes , but hey he got 15 million , what's it matter to him ? \\nonce again arnold has signed to do another expensive blockbuster , that can't compare with the likes of the terminator series , true lies and even eraser . \\nin this so cal\""
            ]
          },
          "metadata": {
            "tags": []
          },
          "execution_count": 17
        }
      ]
    },
    {
      "cell_type": "markdown",
      "metadata": {
        "id": "G1P01A2O2FG4",
        "colab_type": "text"
      },
      "source": [
        "Y ahora, con la propiedad `target` podemos ver la categoría asociada a esta review"
      ]
    },
    {
      "cell_type": "code",
      "metadata": {
        "id": "LjDTfvwt2FG5",
        "colab_type": "code",
        "colab": {
          "base_uri": "https://localhost:8080/",
          "height": 34
        },
        "outputId": "87fbddcf-7623-4189-816b-1f42ab4bc725"
      },
      "source": [
        "movie_reviews.target[0]"
      ],
      "execution_count": null,
      "outputs": [
        {
          "output_type": "execute_result",
          "data": {
            "text/plain": [
              "0"
            ]
          },
          "metadata": {
            "tags": []
          },
          "execution_count": 18
        }
      ]
    },
    {
      "cell_type": "markdown",
      "metadata": {
        "id": "sXAo26IQ2FG8",
        "colab_type": "text"
      },
      "source": [
        "En este caso es un 0, es decir `neg`."
      ]
    },
    {
      "cell_type": "markdown",
      "metadata": {
        "id": "s5eCnkoD2FG9",
        "colab_type": "text"
      },
      "source": [
        "## Separando en conjuntos de entrenamiento y de testeo"
      ]
    },
    {
      "cell_type": "markdown",
      "metadata": {
        "id": "_nsFsSYj2FG9",
        "colab_type": "text"
      },
      "source": [
        "Antes de comenzar con el entrenamiento de los modelos probando distintos algoritmos para encontrar los mejores modelos, vamos a separar el conjunto de reviews en training y testing. "
      ]
    },
    {
      "cell_type": "code",
      "metadata": {
        "id": "SindlYa82FG-",
        "colab_type": "code",
        "colab": {}
      },
      "source": [
        "from sklearn.model_selection import train_test_split\n",
        "X_train, X_test, y_train, y_test = train_test_split(\n",
        "    movie_reviews.data, movie_reviews.target, test_size = 0.20, stratify=movie_reviews.target, random_state = 12)"
      ],
      "execution_count": null,
      "outputs": []
    },
    {
      "cell_type": "markdown",
      "metadata": {
        "id": "w1PJ6u9U2FHC",
        "colab_type": "text"
      },
      "source": [
        "## Preprocesamiento"
      ]
    },
    {
      "cell_type": "markdown",
      "metadata": {
        "id": "G5J9aIV22FHD",
        "colab_type": "text"
      },
      "source": [
        "Para trabajar con texto tenemos que realizar una serie de pasos antes de poder entrenar un modelo. Es decir, buscar la forma de convertir el texto a una representación numérica que pueda ser interpretable por los algoritmos de clasificación. \n",
        "Para ello vamos a realizar una serie de pasos.\n",
        "- Tokenizar el texto\n",
        "- Convertir a vectores de términos/documentos\n",
        "- Aplicar tfidf\n"
      ]
    },
    {
      "cell_type": "markdown",
      "metadata": {
        "id": "TEwVztyy2FHE",
        "colab_type": "text"
      },
      "source": [
        "Es importante destacar que el `fit` debe hacerse sobre el conjunto de `train` y no sobre el total, ya que `tfidf` tiene en cuenta la frecuencia de aparición de las palabras respecto al total del conjunto. Una vez que usamos el `fit` con el conjunto de entrenamiento podemos aplicar la transformación al conjunto de `test`. "
      ]
    },
    {
      "cell_type": "markdown",
      "metadata": {
        "id": "GyJTOaVc2FHF",
        "colab_type": "text"
      },
      "source": [
        "**1) Vectorizá** los textos para obtener una matriz de términos/documentos utilizando td-idf. "
      ]
    },
    {
      "cell_type": "code",
      "metadata": {
        "id": "d9ehzB3D2FHG",
        "colab_type": "code",
        "colab": {
          "base_uri": "https://localhost:8080/",
          "height": 85
        },
        "outputId": "7f7e3c2c-f0d7-4241-be39-5ae43ed72ceb"
      },
      "source": [
        "# Se Realizan los pasos necesarios para vectorizar los conjuntos de entrenamiento y testeo en este celda\n",
        "import nltk \n",
        "nltk.download('stopwords')\n",
        "nltk.download('punkt')\n",
        "from nltk.corpus import stopwords\n",
        "from sklearn.feature_extraction.text import TfidfVectorizer"
      ],
      "execution_count": null,
      "outputs": [
        {
          "output_type": "stream",
          "text": [
            "[nltk_data] Downloading package stopwords to /root/nltk_data...\n",
            "[nltk_data]   Unzipping corpora/stopwords.zip.\n",
            "[nltk_data] Downloading package punkt to /root/nltk_data...\n",
            "[nltk_data]   Unzipping tokenizers/punkt.zip.\n"
          ],
          "name": "stdout"
        }
      ]
    },
    {
      "cell_type": "code",
      "metadata": {
        "id": "6O2Bi8U3b4Ql",
        "colab_type": "code",
        "colab": {}
      },
      "source": [
        " stops = set(stopwords.words(\"english\")) \n",
        " tf_idf = TfidfVectorizer(stop_words=stops, tokenizer = nltk.word_tokenize, ngram_range=(1, 2))"
      ],
      "execution_count": null,
      "outputs": []
    },
    {
      "cell_type": "code",
      "metadata": {
        "id": "qgi2PRb9b5w3",
        "colab_type": "code",
        "colab": {}
      },
      "source": [
        "X_train = tf_idf.fit_transform(X_train)\n",
        "X_test = tf_idf.transform(X_test)"
      ],
      "execution_count": null,
      "outputs": []
    },
    {
      "cell_type": "markdown",
      "metadata": {
        "id": "7k-FU73B2FHJ",
        "colab_type": "text"
      },
      "source": [
        "### Dimensión de la matriz de términos\n",
        "Una vez vectorizados los documentos veamos qué forma tiene la matriz resultante"
      ]
    },
    {
      "cell_type": "code",
      "metadata": {
        "id": "CjAVZ5HQ2FHJ",
        "colab_type": "code",
        "colab": {
          "base_uri": "https://localhost:8080/",
          "height": 34
        },
        "outputId": "d93ae18f-2814-4e5b-c63a-c95869ad21a7"
      },
      "source": [
        "X_train.shape"
      ],
      "execution_count": null,
      "outputs": [
        {
          "output_type": "execute_result",
          "data": {
            "text/plain": [
              "(1600, 441861)"
            ]
          },
          "metadata": {
            "tags": []
          },
          "execution_count": 23
        }
      ]
    },
    {
      "cell_type": "markdown",
      "metadata": {
        "id": "gMTf0GHB2FHN",
        "colab_type": "text"
      },
      "source": [
        "__¿ Por qué tiene estas dimensiones ?__"
      ]
    },
    {
      "cell_type": "markdown",
      "metadata": {
        "id": "oc0zO_iq2FHN",
        "colab_type": "text"
      },
      "source": [
        "Responder."
      ]
    },
    {
      "cell_type": "markdown",
      "metadata": {
        "id": "LXKa-dmj2FHO",
        "colab_type": "text"
      },
      "source": [
        "  R/ Porque el resultado es una matriz de términos por documentos. Por cada término existente en el dataset habrá una columna, ya que no se realizó ningún tipo de filtrado."
      ]
    },
    {
      "cell_type": "markdown",
      "metadata": {
        "id": "mf38gZUG2FHO",
        "colab_type": "text"
      },
      "source": [
        "## Entrenando los modelos\n",
        "Una vez que tenemos una matriz con los vectores correspondientes a los documentos luego de aplicarse td-idf podemos comenzar con el proceso de entrenamiento de los modelos. Para eso, vamos a comparar diferentes algoritmos vistos como SVM, Random Forest, AdaBoost, Voting. Y todos los algoritmos complementarios que se quieran introducir. \n",
        "Para el entrenamiento de los modelos usaremos GridSearch recorriendo una lista de parámetros según corresponda a cada algoritmo. Además usaremos 5-fold CV y el scoring estará dado por el área bajo la curva roc."
      ]
    },
    {
      "cell_type": "markdown",
      "metadata": {
        "id": "zj4Mlvi_2FHQ",
        "colab_type": "text"
      },
      "source": [
        "### Support Vector Machines (SVM)"
      ]
    },
    {
      "cell_type": "markdown",
      "metadata": {
        "id": "erp9Y07B2FHR",
        "colab_type": "text"
      },
      "source": [
        "__Ajustar un SVM (kernel lineal) al conjunto de datos de entrenamiento y devolver la matriz de confusión en testing.__\n",
        "\n",
        "Basándonos en el paper https://www.csie.ntu.edu.tw/~cjlin/papers/guide/guide.pdf, vamos a utilizar un kernel lineal. Al tener menos instancias que features este es el procedimiento recomendado. \n",
        "\n",
        "Nuestro espacio de parámetros para recorrer de forma exhaustiva utilizando GridSearch será el siguiente:\n",
        "\n",
        "* C = [0.001, 0.01, 0.1, 1, 10]\n",
        "* loss = ['hinge', 'squared_hinge'] \n",
        "\n",
        "**2) Entrenar** un modelo utilizando `Grid Search` y el clasificador `LinearSVC` con `5-fold` cross validation y que utilice como `scoring` el área bajo la curva roc."
      ]
    },
    {
      "cell_type": "code",
      "metadata": {
        "id": "18mKXq2rcGxQ",
        "colab_type": "code",
        "colab": {}
      },
      "source": [
        "from sklearn.svm import SVC\n",
        "clf=SVC(kernel=\"linear\")\n",
        "clf.fit(X_train, y_train)\n",
        "y_pred=clf.predict(X_test)"
      ],
      "execution_count": null,
      "outputs": []
    },
    {
      "cell_type": "code",
      "metadata": {
        "id": "6t8UTfCQi26A",
        "colab_type": "code",
        "colab": {}
      },
      "source": [
        "from sklearn.metrics import confusion_matrix, classification_report, f1_score, precision_score, recall_score"
      ],
      "execution_count": null,
      "outputs": []
    },
    {
      "cell_type": "code",
      "metadata": {
        "id": "oVKADUlz180d",
        "colab_type": "code",
        "colab": {}
      },
      "source": [
        "LABELS = [\"Negativo\",\"Positivo\"]\n",
        "\n",
        "def mostrar_resultados(y_test, y_pred):\n",
        "    conf_matrix = confusion_matrix(y_test, y_pred)\n",
        "    plt.figure(figsize=(8, 8))\n",
        "    sns.heatmap(conf_matrix, xticklabels=LABELS, yticklabels=LABELS, annot=True, fmt=\"d\");\n",
        "    plt.title(\"Confusion matrix\")\n",
        "    plt.ylabel('True class')\n",
        "    plt.xlabel('Predicted class')\n",
        "    plt.show()\n",
        "    print (classification_report(y_test, y_pred, target_names=movie_reviews.target_names))"
      ],
      "execution_count": null,
      "outputs": []
    },
    {
      "cell_type": "code",
      "metadata": {
        "id": "tzj96UbF2ETR",
        "colab_type": "code",
        "colab": {
          "base_uri": "https://localhost:8080/",
          "height": 671
        },
        "outputId": "aec1b425-eaf1-4cf0-e13a-11a731d5a00b"
      },
      "source": [
        "mostrar_resultados(y_test, y_pred)"
      ],
      "execution_count": null,
      "outputs": [
        {
          "output_type": "display_data",
          "data": {
            "image/png": "[encoded data removed]",
            "text/plain": [
              "<Figure size 576x576 with 2 Axes>"
            ]
          },
          "metadata": {
            "tags": []
          }
        },
        {
          "output_type": "stream",
          "text": [
            "              precision    recall  f1-score   support\n",
            "\n",
            "         neg       0.86      0.79      0.82       200\n",
            "         pos       0.80      0.87      0.83       200\n",
            "\n",
            "    accuracy                           0.83       400\n",
            "   macro avg       0.83      0.83      0.83       400\n",
            "weighted avg       0.83      0.83      0.83       400\n",
            "\n"
          ],
          "name": "stdout"
        }
      ]
    },
    {
      "cell_type": "code",
      "metadata": {
        "id": "k7cszIL9Z7ds",
        "colab_type": "code",
        "colab": {}
      },
      "source": [
        "param_grid = [{\"C\" : [0.001, 0.01, 0.1, 1, 10], \"loss\" : ['hinge', 'squared_hinge']}]"
      ],
      "execution_count": null,
      "outputs": []
    },
    {
      "cell_type": "code",
      "metadata": {
        "id": "wF7ZGenD2FHT",
        "colab_type": "code",
        "colab": {}
      },
      "source": [
        "# Se realizá el entrenamiento en esta celda\n",
        "\n",
        "from sklearn.model_selection import GridSearchCV\n",
        "from sklearn.svm import LinearSVC\n",
        "clf2 = LinearSVC(random_state=42)"
      ],
      "execution_count": null,
      "outputs": []
    },
    {
      "cell_type": "code",
      "metadata": {
        "id": "wAwKsGbvlvBD",
        "colab_type": "code",
        "colab": {
          "base_uri": "https://localhost:8080/",
          "height": 204
        },
        "outputId": "a3ee285f-2b26-4e1b-9920-c70ea4df0fa8"
      },
      "source": [
        "grid_search = GridSearchCV(clf2, param_grid, cv=5, scoring='roc_auc', n_jobs=-1, return_train_score=True)\n",
        "grid_search.fit(X_train, y_train)"
      ],
      "execution_count": null,
      "outputs": [
        {
          "output_type": "execute_result",
          "data": {
            "text/plain": [
              "GridSearchCV(cv=5, error_score=nan,\n",
              "             estimator=LinearSVC(C=1.0, class_weight=None, dual=True,\n",
              "                                 fit_intercept=True, intercept_scaling=1,\n",
              "                                 loss='squared_hinge', max_iter=1000,\n",
              "                                 multi_class='ovr', penalty='l2',\n",
              "                                 random_state=42, tol=0.0001, verbose=0),\n",
              "             iid='deprecated', n_jobs=-1,\n",
              "             param_grid=[{'C': [0.001, 0.01, 0.1, 1, 10],\n",
              "                          'loss': ['hinge', 'squared_hinge']}],\n",
              "             pre_dispatch='2*n_jobs', refit=True, return_train_score=True,\n",
              "             scoring='roc_auc', verbose=0)"
            ]
          },
          "metadata": {
            "tags": []
          },
          "execution_count": 30
        }
      ]
    },
    {
      "cell_type": "code",
      "metadata": {
        "id": "MklyJ8WvbWI0",
        "colab_type": "code",
        "colab": {
          "base_uri": "https://localhost:8080/",
          "height": 34
        },
        "outputId": "37d0e520-9f48-41a8-983b-3ac8a8acd879"
      },
      "source": [
        "print(clf2.get_params().keys())"
      ],
      "execution_count": null,
      "outputs": [
        {
          "output_type": "stream",
          "text": [
            "dict_keys(['C', 'class_weight', 'dual', 'fit_intercept', 'intercept_scaling', 'loss', 'max_iter', 'multi_class', 'penalty', 'random_state', 'tol', 'verbose'])\n"
          ],
          "name": "stdout"
        }
      ]
    },
    {
      "cell_type": "markdown",
      "metadata": {
        "id": "axm5ZPQL2FHY",
        "colab_type": "text"
      },
      "source": [
        "Veamos los resultados promediados por cada combinación de parámetros:"
      ]
    },
    {
      "cell_type": "code",
      "metadata": {
        "id": "-uJKWV20jSHz",
        "colab_type": "code",
        "colab": {
          "base_uri": "https://localhost:8080/",
          "height": 187
        },
        "outputId": "8771c79f-904e-4c81-fc68-f05bf7a6fb61"
      },
      "source": [
        "sorted(grid_search.cv_results_[\"mean_train_score\"])"
      ],
      "execution_count": null,
      "outputs": [
        {
          "output_type": "execute_result",
          "data": {
            "text/plain": [
              "[0.98709716796875,\n",
              " 0.98709716796875,\n",
              " 0.98709716796875,\n",
              " 0.98760888671875,\n",
              " 0.9910078125,\n",
              " 0.99969189453125,\n",
              " 0.9999960937499999,\n",
              " 1.0,\n",
              " 1.0,\n",
              " 1.0]"
            ]
          },
          "metadata": {
            "tags": []
          },
          "execution_count": 33
        }
      ]
    },
    {
      "cell_type": "code",
      "metadata": {
        "id": "IxcQSmK8hbpZ",
        "colab_type": "code",
        "colab": {
          "base_uri": "https://localhost:8080/",
          "height": 359
        },
        "outputId": "155f9df8-1082-4c28-b4ea-b6a02d71ba2b"
      },
      "source": [
        "import pandas as pd\n",
        "\n",
        "data = []\n",
        "max_depth = []\n",
        "max_features = []\n",
        "\n",
        "for d in grid_search.cv_results_[\"params\"]:\n",
        "    max_depth.append(d[\"C\"])\n",
        "    max_features.append(d[\"loss\"])\n",
        "\n",
        "data.append(grid_search.cv_results_[\"mean_test_score\"])\n",
        "data.append(grid_search.cv_results_[\"std_test_score\"])\n",
        "data.append(max_depth)\n",
        "data.append(max_features)\n",
        "\n",
        "df = pd.DataFrame(data)\n",
        "df = df.T\n",
        "df.columns = [\"mean_test_score\", \"std_test_score\", \"C\", \"loss\"]\n",
        "df"
      ],
      "execution_count": null,
      "outputs": [
        {
          "output_type": "execute_result",
          "data": {
            "text/html": [
              "<div>\n",
              "<style scoped>\n",
              "    .dataframe tbody tr th:only-of-type {\n",
              "        vertical-align: middle;\n",
              "    }\n",
              "\n",
              "    .dataframe tbody tr th {\n",
              "        vertical-align: top;\n",
              "    }\n",
              "\n",
              "    .dataframe thead th {\n",
              "        text-align: right;\n",
              "    }\n",
              "</style>\n",
              "<table border=\"1\" class=\"dataframe\">\n",
              "  <thead>\n",
              "    <tr style=\"text-align: right;\">\n",
              "      <th></th>\n",
              "      <th>mean_test_score</th>\n",
              "      <th>std_test_score</th>\n",
              "      <th>C</th>\n",
              "      <th>loss</th>\n",
              "    </tr>\n",
              "  </thead>\n",
              "  <tbody>\n",
              "    <tr>\n",
              "      <th>0</th>\n",
              "      <td>0.805078</td>\n",
              "      <td>0.0240695</td>\n",
              "      <td>0.001</td>\n",
              "      <td>hinge</td>\n",
              "    </tr>\n",
              "    <tr>\n",
              "      <th>1</th>\n",
              "      <td>0.806312</td>\n",
              "      <td>0.0236815</td>\n",
              "      <td>0.001</td>\n",
              "      <td>squared_hinge</td>\n",
              "    </tr>\n",
              "    <tr>\n",
              "      <th>2</th>\n",
              "      <td>0.805078</td>\n",
              "      <td>0.0240695</td>\n",
              "      <td>0.01</td>\n",
              "      <td>hinge</td>\n",
              "    </tr>\n",
              "    <tr>\n",
              "      <th>3</th>\n",
              "      <td>0.813672</td>\n",
              "      <td>0.0225194</td>\n",
              "      <td>0.01</td>\n",
              "      <td>squared_hinge</td>\n",
              "    </tr>\n",
              "    <tr>\n",
              "      <th>4</th>\n",
              "      <td>0.805078</td>\n",
              "      <td>0.0240695</td>\n",
              "      <td>0.1</td>\n",
              "      <td>hinge</td>\n",
              "    </tr>\n",
              "    <tr>\n",
              "      <th>5</th>\n",
              "      <td>0.85243</td>\n",
              "      <td>0.0184876</td>\n",
              "      <td>0.1</td>\n",
              "      <td>squared_hinge</td>\n",
              "    </tr>\n",
              "    <tr>\n",
              "      <th>6</th>\n",
              "      <td>0.90682</td>\n",
              "      <td>0.0109272</td>\n",
              "      <td>1</td>\n",
              "      <td>hinge</td>\n",
              "    </tr>\n",
              "    <tr>\n",
              "      <th>7</th>\n",
              "      <td>0.902758</td>\n",
              "      <td>0.011714</td>\n",
              "      <td>1</td>\n",
              "      <td>squared_hinge</td>\n",
              "    </tr>\n",
              "    <tr>\n",
              "      <th>8</th>\n",
              "      <td>0.91375</td>\n",
              "      <td>0.0095275</td>\n",
              "      <td>10</td>\n",
              "      <td>hinge</td>\n",
              "    </tr>\n",
              "    <tr>\n",
              "      <th>9</th>\n",
              "      <td>0.912891</td>\n",
              "      <td>0.00992292</td>\n",
              "      <td>10</td>\n",
              "      <td>squared_hinge</td>\n",
              "    </tr>\n",
              "  </tbody>\n",
              "</table>\n",
              "</div>"
            ],
            "text/plain": [
              "  mean_test_score std_test_score      C           loss\n",
              "0        0.805078      0.0240695  0.001          hinge\n",
              "1        0.806312      0.0236815  0.001  squared_hinge\n",
              "2        0.805078      0.0240695   0.01          hinge\n",
              "3        0.813672      0.0225194   0.01  squared_hinge\n",
              "4        0.805078      0.0240695    0.1          hinge\n",
              "5         0.85243      0.0184876    0.1  squared_hinge\n",
              "6         0.90682      0.0109272      1          hinge\n",
              "7        0.902758       0.011714      1  squared_hinge\n",
              "8         0.91375      0.0095275     10          hinge\n",
              "9        0.912891     0.00992292     10  squared_hinge"
            ]
          },
          "metadata": {
            "tags": []
          },
          "execution_count": 34
        }
      ]
    },
    {
      "cell_type": "code",
      "metadata": {
        "id": "8St92mW-2FHb",
        "colab_type": "code",
        "colab": {
          "base_uri": "https://localhost:8080/",
          "height": 34
        },
        "outputId": "288ec955-6b55-499b-935d-c7c9e8960850"
      },
      "source": [
        "grid_search.best_params_"
      ],
      "execution_count": null,
      "outputs": [
        {
          "output_type": "execute_result",
          "data": {
            "text/plain": [
              "{'C': 10, 'loss': 'hinge'}"
            ]
          },
          "metadata": {
            "tags": []
          },
          "execution_count": 35
        }
      ]
    },
    {
      "cell_type": "code",
      "metadata": {
        "id": "A-YOSx5Y2FHe",
        "colab_type": "code",
        "colab": {}
      },
      "source": [
        "optimised_svm = grid_search.best_estimator_"
      ],
      "execution_count": null,
      "outputs": []
    },
    {
      "cell_type": "markdown",
      "metadata": {
        "id": "_OFW2Z7L2FHh",
        "colab_type": "text"
      },
      "source": [
        "## Matriz de confusión \n",
        "Una forma de ver fácilmente el resultado de un clasificador es utilizando una matriz de confusión. A continuación\n",
        "se presenta una función para visualizar una matriz de confusión utilizando `matplotlib`."
      ]
    },
    {
      "cell_type": "markdown",
      "metadata": {
        "id": "oe_zAeIj2FHk",
        "colab_type": "text"
      },
      "source": [
        "**3) Mostrá** los resultados de la predicción del clasificador `LinearSVC` sobre el conjunto de test con una matriz de confusión"
      ]
    },
    {
      "cell_type": "code",
      "metadata": {
        "id": "7rS9XsztnoH_",
        "colab_type": "code",
        "colab": {}
      },
      "source": [
        "clf2.fit(X_train, y_train)\n",
        "y_pred2=clf2.predict(X_test)"
      ],
      "execution_count": null,
      "outputs": []
    },
    {
      "cell_type": "code",
      "metadata": {
        "id": "FhtEz7mz2FHk",
        "colab_type": "code",
        "colab": {}
      },
      "source": [
        "# Se muestra la matriz de confusión en esta celda\n",
        "\n",
        "LABELS = [\"Negativo\",\"Positivo\"]\n",
        "\n",
        "def mostrar_resultados(y_test, y_pred2):\n",
        "    conf_matrix = confusion_matrix(y_test, y_pred2)\n",
        "    plt.figure(figsize=(8, 8))\n",
        "    sns.heatmap(conf_matrix, xticklabels=LABELS, yticklabels=LABELS, annot=True, fmt=\"d\");\n",
        "    plt.title(\"Confusion matrix\")\n",
        "    plt.ylabel('True class')\n",
        "    plt.xlabel('Predicted class')\n",
        "    plt.show()"
      ],
      "execution_count": null,
      "outputs": []
    },
    {
      "cell_type": "code",
      "metadata": {
        "id": "Bm8dHKWtm6bF",
        "colab_type": "code",
        "colab": {
          "base_uri": "https://localhost:8080/",
          "height": 518
        },
        "outputId": "3975f0c8-c82b-46a0-bc26-0ff857081f32"
      },
      "source": [
        "mostrar_resultados(y_test, y_pred2)"
      ],
      "execution_count": null,
      "outputs": [
        {
          "output_type": "display_data",
          "data": {
            "image/png": "[encoded data removed]",
            "text/plain": [
              "<Figure size 576x576 with 2 Axes>"
            ]
          },
          "metadata": {
            "tags": []
          }
        }
      ]
    },
    {
      "cell_type": "markdown",
      "metadata": {
        "id": "hz58cLXv2FHo",
        "colab_type": "text"
      },
      "source": [
        "**4) Calcular** el área bajo la curva ROC (AUC) en el conjunto de testing para el modelo y mostrá el `classification_report`"
      ]
    },
    {
      "cell_type": "code",
      "metadata": {
        "id": "gNAwVzO62FHo",
        "colab_type": "code",
        "colab": {
          "base_uri": "https://localhost:8080/",
          "height": 221
        },
        "outputId": "45fefa41-ea03-4528-bac4-8862fe939b54"
      },
      "source": [
        "# Se  muestra el roc_auc_score y el classification_report en esta celda\n",
        "from sklearn.metrics import roc_auc_score\n",
        "print(\"El score del área bajo la curva roc es: \", roc_auc_score(y_test, y_pred2), \"\\n\")\n",
        "print (\"El reporte de las metricas de clasificación es: \", \"\\n\", classification_report(y_test, y_pred2, target_names=movie_reviews.target_names))"
      ],
      "execution_count": null,
      "outputs": [
        {
          "output_type": "stream",
          "text": [
            "El score del área bajo la curva roc es:  0.8225 \n",
            "\n",
            "El reporte de las metricas de clasificación es:  \n",
            "               precision    recall  f1-score   support\n",
            "\n",
            "         neg       0.85      0.78      0.81       200\n",
            "         pos       0.80      0.86      0.83       200\n",
            "\n",
            "    accuracy                           0.82       400\n",
            "   macro avg       0.82      0.82      0.82       400\n",
            "weighted avg       0.82      0.82      0.82       400\n",
            "\n"
          ],
          "name": "stdout"
        }
      ]
    },
    {
      "cell_type": "markdown",
      "metadata": {
        "id": "XW4UmFiH2FHs",
        "colab_type": "text"
      },
      "source": [
        "### Random Forests\n",
        "El siguiente modelo que vamos a entrenar es utilizando la técnica de Random Forest. "
      ]
    },
    {
      "cell_type": "markdown",
      "metadata": {
        "id": "-IkHP2G-2FHt",
        "colab_type": "text"
      },
      "source": [
        "__5) Usando grid search__ con cross validation (5 folds), encontrar el mejor modelo según el AUC dado el siguiente espacio de búsqueda:\n",
        "\n",
        "* n_estimators = [100, 500, 1000]\n",
        "* max_depth: [3, 7, None]\n",
        "* min_samples_split: [2, 3, 10]\n",
        "* bootstrap: [True, False]\n",
        "* criterion: [\"gini\", \"entropy\"]\n",
        "\n",
        "(puede tardar un poco la ejecución dado el tamaño del dataset)"
      ]
    },
    {
      "cell_type": "code",
      "metadata": {
        "id": "DUHedSntxyIl",
        "colab_type": "code",
        "colab": {}
      },
      "source": [
        "param_grid = [{\"n_estimators\" : [100, 500, 1000], \"max_depth\" : [3, 7, None], \"min_samples_split\" : [2, 3, 10], \"bootstrap\" : [True, False], \"criterion\" : [\"gini\", \"entropy\"]}]"
      ],
      "execution_count": null,
      "outputs": []
    },
    {
      "cell_type": "code",
      "metadata": {
        "id": "M7M8Q-3V2FHt",
        "colab_type": "code",
        "colab": {}
      },
      "source": [
        "# Se entrenar el modelo en esta celda\n",
        "\n",
        "from sklearn.ensemble import RandomForestClassifier\n",
        "clf3 = RandomForestClassifier(random_state=42)"
      ],
      "execution_count": null,
      "outputs": []
    },
    {
      "cell_type": "code",
      "metadata": {
        "id": "ox3HB9D3xl5n",
        "colab_type": "code",
        "colab": {
          "base_uri": "https://localhost:8080/",
          "height": 408
        },
        "outputId": "d2b172b0-0e25-472a-8126-db995500791b"
      },
      "source": [
        "grid_search = GridSearchCV(clf3, param_grid, cv=5, scoring='roc_auc', return_train_score=True, n_jobs=-1)\n",
        "grid_search.fit(X_train, y_train)"
      ],
      "execution_count": null,
      "outputs": [
        {
          "output_type": "execute_result",
          "data": {
            "text/plain": [
              "GridSearchCV(cv=5, error_score=nan,\n",
              "             estimator=RandomForestClassifier(bootstrap=True, ccp_alpha=0.0,\n",
              "                                              class_weight=None,\n",
              "                                              criterion='gini', max_depth=None,\n",
              "                                              max_features='auto',\n",
              "                                              max_leaf_nodes=None,\n",
              "                                              max_samples=None,\n",
              "                                              min_impurity_decrease=0.0,\n",
              "                                              min_impurity_split=None,\n",
              "                                              min_samples_leaf=1,\n",
              "                                              min_samples_split=2,\n",
              "                                              min_weight_fraction_leaf=0.0,\n",
              "                                              n_estimators=100, n_jobs=None,\n",
              "                                              oob_score=False, random_state=42,\n",
              "                                              verbose=0, warm_start=False),\n",
              "             iid='deprecated', n_jobs=-1,\n",
              "             param_grid=[{'bootstrap': [True, False],\n",
              "                          'criterion': ['gini', 'entropy'],\n",
              "                          'max_depth': [3, 7, None],\n",
              "                          'min_samples_split': [2, 3, 10],\n",
              "                          'n_estimators': [100, 500, 1000]}],\n",
              "             pre_dispatch='2*n_jobs', refit=True, return_train_score=True,\n",
              "             scoring='roc_auc', verbose=0)"
            ]
          },
          "metadata": {
            "tags": []
          },
          "execution_count": 43
        }
      ]
    },
    {
      "cell_type": "markdown",
      "metadata": {
        "id": "S-6AHzK82FHw",
        "colab_type": "text"
      },
      "source": [
        "**6) Repetir** los mismos pasos utilizados con el anterior modelo pero esta vez para `Random Forest`. Es decir, mostrar la matriz de confusión, scores, etc"
      ]
    },
    {
      "cell_type": "code",
      "metadata": {
        "id": "HxOmihGz1ymO",
        "colab_type": "code",
        "colab": {
          "base_uri": "https://localhost:8080/",
          "height": 1000
        },
        "outputId": "92ce8b7e-a246-4400-ee44-3563d58760fc"
      },
      "source": [
        "sorted(grid_search.cv_results_[\"mean_train_score\"])"
      ],
      "execution_count": null,
      "outputs": [
        {
          "output_type": "execute_result",
          "data": {
            "text/plain": [
              "[0.96266943359375,\n",
              " 0.9629758300781252,\n",
              " 0.96309228515625,\n",
              " 0.9631372070312499,\n",
              " 0.9638605957031251,\n",
              " 0.9638669433593752,\n",
              " 0.9785791015624999,\n",
              " 0.978765625,\n",
              " 0.9787924804687501,\n",
              " 0.9810434570312498,\n",
              " 0.98111962890625,\n",
              " 0.9811201171875001,\n",
              " 0.99104833984375,\n",
              " 0.9915693359374999,\n",
              " 0.99160595703125,\n",
              " 0.9921010742187499,\n",
              " 0.9923964843749999,\n",
              " 0.992416015625,\n",
              " 0.9936430664062499,\n",
              " 0.9939814453125001,\n",
              " 0.99400537109375,\n",
              " 0.99453759765625,\n",
              " 0.9945708007812503,\n",
              " 0.9947255859374999,\n",
              " 0.9947436523437501,\n",
              " 0.9951035156250001,\n",
              " 0.995263671875,\n",
              " 0.9958310546875,\n",
              " 0.9959355468750001,\n",
              " 0.99594384765625,\n",
              " 0.9959501953124998,\n",
              " 0.9963398437500001,\n",
              " 0.99641796875,\n",
              " 0.9964257812499999,\n",
              " 0.9966728515625001,\n",
              " 0.99670068359375,\n",
              " 0.9972280273437499,\n",
              " 0.9973603515624999,\n",
              " 0.9973715820312499,\n",
              " 0.99773291015625,\n",
              " 0.9977934570312501,\n",
              " 0.9978007812499999,\n",
              " 0.9989775390625001,\n",
              " 0.9990732421875,\n",
              " 0.999115234375,\n",
              " 0.99923828125,\n",
              " 0.9993012695312501,\n",
              " 0.99939404296875,\n",
              " 0.9994194335937501,\n",
              " 0.99944287109375,\n",
              " 0.9994604492187499,\n",
              " 0.9994853515625,\n",
              " 0.99952197265625,\n",
              " 0.9996333007812501,\n",
              " 0.9996508789062499,\n",
              " 0.9996513671875,\n",
              " 0.9996611328125,\n",
              " 0.99967822265625,\n",
              " 0.99977197265625,\n",
              " 0.9997890625,\n",
              " 0.999908203125,\n",
              " 0.9999340820312501,\n",
              " 0.999935546875,\n",
              " 0.9999375,\n",
              " 0.9999501953125,\n",
              " 0.999953125,\n",
              " 0.9999599609374998,\n",
              " 0.9999614257812501,\n",
              " 0.9999619140625,\n",
              " 0.9999648437499999,\n",
              " 0.99997998046875,\n",
              " 0.99997998046875,\n",
              " 1.0,\n",
              " 1.0,\n",
              " 1.0,\n",
              " 1.0,\n",
              " 1.0,\n",
              " 1.0,\n",
              " 1.0,\n",
              " 1.0,\n",
              " 1.0,\n",
              " 1.0,\n",
              " 1.0,\n",
              " 1.0,\n",
              " 1.0,\n",
              " 1.0,\n",
              " 1.0,\n",
              " 1.0,\n",
              " 1.0,\n",
              " 1.0,\n",
              " 1.0,\n",
              " 1.0,\n",
              " 1.0,\n",
              " 1.0,\n",
              " 1.0,\n",
              " 1.0,\n",
              " 1.0,\n",
              " 1.0,\n",
              " 1.0,\n",
              " 1.0,\n",
              " 1.0,\n",
              " 1.0,\n",
              " 1.0,\n",
              " 1.0,\n",
              " 1.0,\n",
              " 1.0,\n",
              " 1.0,\n",
              " 1.0]"
            ]
          },
          "metadata": {
            "tags": []
          },
          "execution_count": 44
        }
      ]
    },
    {
      "cell_type": "code",
      "metadata": {
        "id": "Jx9M2e2E12wZ",
        "colab_type": "code",
        "colab": {
          "base_uri": "https://localhost:8080/",
          "height": 34
        },
        "outputId": "e1b0521b-8c23-49bc-c450-d964ca2ba208"
      },
      "source": [
        "print(\"Los mejores parametros son:\", grid_search.best_params_)"
      ],
      "execution_count": null,
      "outputs": [
        {
          "output_type": "stream",
          "text": [
            "Los mejores parametros son: {'bootstrap': False, 'criterion': 'entropy', 'max_depth': None, 'min_samples_split': 10, 'n_estimators': 1000}\n"
          ],
          "name": "stdout"
        }
      ]
    },
    {
      "cell_type": "code",
      "metadata": {
        "id": "5Ne5Bor42SXG",
        "colab_type": "code",
        "colab": {}
      },
      "source": [
        "LABELS = [\"Negativo\",\"Positivo\"]\n",
        "\n",
        "def mostrar_resultados(y_test, y_pred3):\n",
        "    conf_matrix = confusion_matrix(y_test, y_pred3)\n",
        "    plt.figure(figsize=(8, 8))\n",
        "    sns.heatmap(conf_matrix, xticklabels=LABELS, yticklabels=LABELS, annot=True, fmt=\"d\");\n",
        "    plt.title(\"Confusion matrix\")\n",
        "    plt.ylabel('True class')\n",
        "    plt.xlabel('Predicted class')\n",
        "    plt.show()"
      ],
      "execution_count": null,
      "outputs": []
    },
    {
      "cell_type": "code",
      "metadata": {
        "id": "dxG5xyMR2o5O",
        "colab_type": "code",
        "colab": {
          "base_uri": "https://localhost:8080/",
          "height": 518
        },
        "outputId": "4cce35ab-5f11-438f-c9e9-3909c7a6d6c1"
      },
      "source": [
        "mostrar_resultados(y_test, y_pred3)"
      ],
      "execution_count": null,
      "outputs": [
        {
          "output_type": "display_data",
          "data": {
            "image/png": "[encoded data removed]",
            "text/plain": [
              "<Figure size 576x576 with 2 Axes>"
            ]
          },
          "metadata": {
            "tags": []
          }
        }
      ]
    },
    {
      "cell_type": "code",
      "metadata": {
        "id": "QtZ6caM6224U",
        "colab_type": "code",
        "colab": {
          "base_uri": "https://localhost:8080/",
          "height": 221
        },
        "outputId": "3e63585d-df82-4403-d0b0-d5d08b3ef325"
      },
      "source": [
        "print(\"El score del área bajo la curva roc es: \", roc_auc_score(y_test, y_pred3), \"\\n\")\n",
        "print (\"El reporte de las metricas de clasificación es: \", \"\\n\", classification_report(y_test, y_pred3, target_names=movie_reviews.target_names))"
      ],
      "execution_count": null,
      "outputs": [
        {
          "output_type": "stream",
          "text": [
            "El score del área bajo la curva roc es:  0.7775000000000001 \n",
            "\n",
            "El reporte de las metricas de clasificación es:  \n",
            "               precision    recall  f1-score   support\n",
            "\n",
            "         neg       0.73      0.87      0.80       200\n",
            "         pos       0.84      0.69      0.75       200\n",
            "\n",
            "    accuracy                           0.78       400\n",
            "   macro avg       0.79      0.78      0.78       400\n",
            "weighted avg       0.79      0.78      0.78       400\n",
            "\n"
          ],
          "name": "stdout"
        }
      ]
    },
    {
      "cell_type": "markdown",
      "metadata": {
        "id": "i1zYfn142FHw",
        "colab_type": "text"
      },
      "source": [
        "### Multilayer Perceptron"
      ]
    },
    {
      "cell_type": "markdown",
      "metadata": {
        "id": "gRMBHFKV2FHx",
        "colab_type": "text"
      },
      "source": [
        "**7) Repetir** los mismos pasos utilizados con el anterior modelo pero esta vez para `Multilayer Perceptron`. Es decir, mostrar la matriz de confusión, scores, etc\n",
        "\n",
        "El `param_grid` debe recorrer estos valores: `{'hidden_layer_sizes': [(10,),(5,5), (2,2)]}`"
      ]
    },
    {
      "cell_type": "code",
      "metadata": {
        "id": "0uSNdQlhIlR_",
        "colab_type": "code",
        "colab": {}
      },
      "source": [
        "param_grid = [{'hidden_layer_sizes': [(10,), (5,5), (2,2)]}]"
      ],
      "execution_count": null,
      "outputs": []
    },
    {
      "cell_type": "code",
      "metadata": {
        "id": "V--WcAifJKBv",
        "colab_type": "code",
        "colab": {}
      },
      "source": [
        "from sklearn.neural_network import MLPClassifier\n",
        "clf4 = MLPClassifier(random_state=42)"
      ],
      "execution_count": null,
      "outputs": []
    },
    {
      "cell_type": "code",
      "metadata": {
        "id": "JVL5j6P5K5eE",
        "colab_type": "code",
        "colab": {
          "base_uri": "https://localhost:8080/",
          "height": 323
        },
        "outputId": "7a7cda1f-90bc-4a78-9881-1e72c310d8d5"
      },
      "source": [
        "grid_search = GridSearchCV(clf4, param_grid, cv=5, scoring='roc_auc', return_train_score=True, n_jobs=-1)\n",
        "grid_search.fit(X_train, y_train)"
      ],
      "execution_count": null,
      "outputs": [
        {
          "output_type": "execute_result",
          "data": {
            "text/plain": [
              "GridSearchCV(cv=5, error_score=nan,\n",
              "             estimator=MLPClassifier(activation='relu', alpha=0.0001,\n",
              "                                     batch_size='auto', beta_1=0.9,\n",
              "                                     beta_2=0.999, early_stopping=False,\n",
              "                                     epsilon=1e-08, hidden_layer_sizes=(100,),\n",
              "                                     learning_rate='constant',\n",
              "                                     learning_rate_init=0.001, max_fun=15000,\n",
              "                                     max_iter=200, momentum=0.9,\n",
              "                                     n_iter_no_change=10,\n",
              "                                     nesterovs_momentum=True, power_t=0.5,\n",
              "                                     random_state=42, shuffle=True,\n",
              "                                     solver='adam', tol=0.0001,\n",
              "                                     validation_fraction=0.1, verbose=False,\n",
              "                                     warm_start=False),\n",
              "             iid='deprecated', n_jobs=-1,\n",
              "             param_grid=[{'hidden_layer_sizes': [(10,), (5, 5), (2, 2)]}],\n",
              "             pre_dispatch='2*n_jobs', refit=True, return_train_score=True,\n",
              "             scoring='roc_auc', verbose=0)"
            ]
          },
          "metadata": {
            "tags": []
          },
          "execution_count": 51
        }
      ]
    },
    {
      "cell_type": "code",
      "metadata": {
        "id": "KsCPTXRVLJ23",
        "colab_type": "code",
        "colab": {
          "base_uri": "https://localhost:8080/",
          "height": 34
        },
        "outputId": "09fb4a17-326a-40dd-eb93-b4b32f7a22a9"
      },
      "source": [
        "sorted(grid_search.cv_results_[\"mean_train_score\"])"
      ],
      "execution_count": null,
      "outputs": [
        {
          "output_type": "execute_result",
          "data": {
            "text/plain": [
              "[1.0, 1.0, 1.0]"
            ]
          },
          "metadata": {
            "tags": []
          },
          "execution_count": 52
        }
      ]
    },
    {
      "cell_type": "code",
      "metadata": {
        "id": "EO4jAIjXLKqi",
        "colab_type": "code",
        "colab": {
          "base_uri": "https://localhost:8080/",
          "height": 34
        },
        "outputId": "28da006a-773e-418c-899d-7519a900f256"
      },
      "source": [
        "print(\"Los mejores parametros son:\", grid_search.best_params_)"
      ],
      "execution_count": null,
      "outputs": [
        {
          "output_type": "stream",
          "text": [
            "Los mejores parametros son: {'hidden_layer_sizes': (5, 5)}\n"
          ],
          "name": "stdout"
        }
      ]
    },
    {
      "cell_type": "code",
      "metadata": {
        "id": "UKAd6hMbDYqm",
        "colab_type": "code",
        "colab": {}
      },
      "source": [
        "clf4 = MLPClassifier(hidden_layer_sizes = (5, 5), random_state=42)"
      ],
      "execution_count": null,
      "outputs": []
    },
    {
      "cell_type": "code",
      "metadata": {
        "id": "vOpdoDD9LPjb",
        "colab_type": "code",
        "colab": {}
      },
      "source": [
        "LABELS = [\"Negativo\",\"Positivo\"]\n",
        "\n",
        "def mostrar_resultados(y_test, y_pred4):\n",
        "    conf_matrix = confusion_matrix(y_test, y_pred4)\n",
        "    plt.figure(figsize=(8, 8))\n",
        "    sns.heatmap(conf_matrix, xticklabels=LABELS, yticklabels=LABELS, annot=True, fmt=\"d\");\n",
        "    plt.title(\"Confusion matrix\")\n",
        "    plt.ylabel('True class')\n",
        "    plt.xlabel('Predicted class')\n",
        "    plt.show()"
      ],
      "execution_count": null,
      "outputs": []
    },
    {
      "cell_type": "code",
      "metadata": {
        "id": "LoSiXJTZLQ9r",
        "colab_type": "code",
        "colab": {
          "base_uri": "https://localhost:8080/",
          "height": 518
        },
        "outputId": "42e9424f-e302-4f57-9e58-489df5e38e3a"
      },
      "source": [
        "mostrar_resultados(y_test, y_pred4)"
      ],
      "execution_count": null,
      "outputs": [
        {
          "output_type": "display_data",
          "data": {
            "image/png": "[encoded data removed]",
            "text/plain": [
              "<Figure size 576x576 with 2 Axes>"
            ]
          },
          "metadata": {
            "tags": []
          }
        }
      ]
    },
    {
      "cell_type": "code",
      "metadata": {
        "id": "gWgW3lUuLUDQ",
        "colab_type": "code",
        "colab": {
          "base_uri": "https://localhost:8080/",
          "height": 221
        },
        "outputId": "f221730b-daba-4e19-f81a-218d05bcbf67"
      },
      "source": [
        "print(\"El score del área bajo la curva roc es: \", roc_auc_score(y_test, y_pred4), \"\\n\")\n",
        "print (\"El reporte de las metricas de clasificación es: \", \"\\n\", classification_report(y_test, y_pred4, target_names=movie_reviews.target_names))"
      ],
      "execution_count": null,
      "outputs": [
        {
          "output_type": "stream",
          "text": [
            "El score del área bajo la curva roc es:  0.855 \n",
            "\n",
            "El reporte de las metricas de clasificación es:  \n",
            "               precision    recall  f1-score   support\n",
            "\n",
            "         neg       0.85      0.86      0.86       200\n",
            "         pos       0.86      0.85      0.85       200\n",
            "\n",
            "    accuracy                           0.85       400\n",
            "   macro avg       0.86      0.85      0.85       400\n",
            "weighted avg       0.86      0.85      0.85       400\n",
            "\n"
          ],
          "name": "stdout"
        }
      ]
    },
    {
      "cell_type": "markdown",
      "metadata": {
        "id": "i_0Szen72FHx",
        "colab_type": "text"
      },
      "source": [
        "### AdaBoost"
      ]
    },
    {
      "cell_type": "markdown",
      "metadata": {
        "id": "nUvcFUk92FHy",
        "colab_type": "text"
      },
      "source": [
        "**8) Repetir** los mismos pasos utilizados con el anterior modelo pero esta vez para `AdaBoost`. Es decir, mostrar la matriz de confusión, scores, etc\n",
        "\n",
        "El `param_grid` debe recorrer estos valores: `{'n_estimators': [50, 100, 500]}`\n"
      ]
    },
    {
      "cell_type": "code",
      "metadata": {
        "id": "aF30TTvyM6mE",
        "colab_type": "code",
        "colab": {}
      },
      "source": [
        "param_grid = [{'n_estimators': [50, 100, 500]}]"
      ],
      "execution_count": null,
      "outputs": []
    },
    {
      "cell_type": "code",
      "metadata": {
        "id": "gpxldqY_ND-h",
        "colab_type": "code",
        "colab": {}
      },
      "source": [
        "from sklearn.ensemble import AdaBoostClassifier\n",
        "clf5 = AdaBoostClassifier(random_state=42)"
      ],
      "execution_count": null,
      "outputs": []
    },
    {
      "cell_type": "code",
      "metadata": {
        "id": "5PR38V2BNz0t",
        "colab_type": "code",
        "colab": {
          "base_uri": "https://localhost:8080/",
          "height": 170
        },
        "outputId": "fa63ccdd-e622-466e-e0a9-3a0a47946ae0"
      },
      "source": [
        "grid_search = GridSearchCV(clf5, param_grid, cv=5, scoring='roc_auc', return_train_score=True, n_jobs=-1)\n",
        "grid_search.fit(X_train, y_train)"
      ],
      "execution_count": null,
      "outputs": [
        {
          "output_type": "execute_result",
          "data": {
            "text/plain": [
              "GridSearchCV(cv=5, error_score=nan,\n",
              "             estimator=AdaBoostClassifier(algorithm='SAMME.R',\n",
              "                                          base_estimator=None,\n",
              "                                          learning_rate=1.0, n_estimators=50,\n",
              "                                          random_state=42),\n",
              "             iid='deprecated', n_jobs=-1,\n",
              "             param_grid=[{'n_estimators': [50, 100, 500]}],\n",
              "             pre_dispatch='2*n_jobs', refit=True, return_train_score=True,\n",
              "             scoring='roc_auc', verbose=0)"
            ]
          },
          "metadata": {
            "tags": []
          },
          "execution_count": 60
        }
      ]
    },
    {
      "cell_type": "code",
      "metadata": {
        "id": "iMLPC1V-N3d8",
        "colab_type": "code",
        "colab": {
          "base_uri": "https://localhost:8080/",
          "height": 34
        },
        "outputId": "a34daf9d-5c0a-4275-9530-23800c23cbbe"
      },
      "source": [
        "sorted(grid_search.cv_results_[\"mean_train_score\"])"
      ],
      "execution_count": null,
      "outputs": [
        {
          "output_type": "execute_result",
          "data": {
            "text/plain": [
              "[0.9624873046875001, 0.9977656249999999, 1.0]"
            ]
          },
          "metadata": {
            "tags": []
          },
          "execution_count": 61
        }
      ]
    },
    {
      "cell_type": "code",
      "metadata": {
        "id": "xmjIydXRODnK",
        "colab_type": "code",
        "colab": {
          "base_uri": "https://localhost:8080/",
          "height": 34
        },
        "outputId": "55c50645-7fd9-4a7d-9ddb-cef67edb97ce"
      },
      "source": [
        "print(\"Los mejores parametros son:\", grid_search.best_params_)"
      ],
      "execution_count": null,
      "outputs": [
        {
          "output_type": "stream",
          "text": [
            "Los mejores parametros son: {'n_estimators': 500}\n"
          ],
          "name": "stdout"
        }
      ]
    },
    {
      "cell_type": "code",
      "metadata": {
        "id": "FNu19K7ZOHc7",
        "colab_type": "code",
        "colab": {}
      },
      "source": [
        "LABELS = [\"Negativo\",\"Positivo\"]\n",
        "\n",
        "def mostrar_resultados(y_test, y_pred5):\n",
        "    conf_matrix = confusion_matrix(y_test, y_pred5)\n",
        "    plt.figure(figsize=(8, 8))\n",
        "    sns.heatmap(conf_matrix, xticklabels=LABELS, yticklabels=LABELS, annot=True, fmt=\"d\");\n",
        "    plt.title(\"Confusion matrix\")\n",
        "    plt.ylabel('True class')\n",
        "    plt.xlabel('Predicted class')\n",
        "    plt.show()"
      ],
      "execution_count": null,
      "outputs": []
    },
    {
      "cell_type": "code",
      "metadata": {
        "id": "gULG6GWBOK5s",
        "colab_type": "code",
        "colab": {}
      },
      "source": [
        "mostrar_resultados(y_test, y_pred5)"
      ],
      "execution_count": null,
      "outputs": []
    },
    {
      "cell_type": "code",
      "metadata": {
        "id": "xmUpP8m0ONqd",
        "colab_type": "code",
        "colab": {
          "base_uri": "https://localhost:8080/",
          "height": 221
        },
        "outputId": "901acc9d-09c5-4266-de96-19e6a129bde4"
      },
      "source": [
        "print(\"El score del área bajo la curva roc es: \", roc_auc_score(y_test, y_pred5), \"\\n\")\n",
        "print (\"El reporte de las metricas de clasificación es: \", \"\\n\", classification_report(y_test, y_pred5, target_names=movie_reviews.target_names))"
      ],
      "execution_count": null,
      "outputs": [
        {
          "output_type": "stream",
          "text": [
            "El score del área bajo la curva roc es:  0.7775 \n",
            "\n",
            "El reporte de las metricas de clasificación es:  \n",
            "               precision    recall  f1-score   support\n",
            "\n",
            "         neg       0.79      0.76      0.77       200\n",
            "         pos       0.77      0.80      0.78       200\n",
            "\n",
            "    accuracy                           0.78       400\n",
            "   macro avg       0.78      0.78      0.78       400\n",
            "weighted avg       0.78      0.78      0.78       400\n",
            "\n"
          ],
          "name": "stdout"
        }
      ]
    },
    {
      "cell_type": "markdown",
      "metadata": {
        "id": "M8fkBznm2FHy",
        "colab_type": "text"
      },
      "source": [
        "__9) Armar un ensamble entre los cuatro modelos usando votación y medir el accuracy de cada uno de los modelos.__\n"
      ]
    },
    {
      "cell_type": "code",
      "metadata": {
        "id": "TYFss_FBRGLl",
        "colab_type": "code",
        "colab": {}
      },
      "source": [
        "from sklearn.metrics import accuracy_score"
      ],
      "execution_count": null,
      "outputs": []
    },
    {
      "cell_type": "code",
      "metadata": {
        "id": "vr4oGMW5cxBp",
        "colab_type": "code",
        "colab": {}
      },
      "source": [
        "from sklearn.ensemble import VotingClassifier\n",
        "voting_clf = VotingClassifier(estimators=[('linearSVC', clf2), ('rnd', clf3), ('MLP', clf4), ('ada', clf5)], voting='hard')"
      ],
      "execution_count": null,
      "outputs": []
    },
    {
      "cell_type": "code",
      "metadata": {
        "id": "Z0TlVNpzd_Ua",
        "colab_type": "code",
        "colab": {
          "base_uri": "https://localhost:8080/",
          "height": 102
        },
        "outputId": "74e33f85-c55a-46ca-ffb4-aa41ee6e84fe"
      },
      "source": [
        "for clf in (clf2, clf3, clf4, clf5, voting_clf):\n",
        "    clf.fit(X_train, y_train)\n",
        "    y_pred = clf.predict(X_test)\n",
        "    print(clf.__class__.__name__, accuracy_score(y_test, y_pred))"
      ],
      "execution_count": null,
      "outputs": [
        {
          "output_type": "stream",
          "text": [
            "LinearSVC 0.8225\n",
            "RandomForestClassifier 0.7775\n",
            "MLPClassifier 0.8475\n",
            "AdaBoostClassifier 0.7775\n",
            "VotingClassifier 0.8425\n"
          ],
          "name": "stdout"
        }
      ]
    },
    {
      "cell_type": "markdown",
      "metadata": {
        "id": "vSlU-Fs82FHz",
        "colab_type": "text"
      },
      "source": [
        "__10) Seleccioná el modelo__ que te haya dado el mejor score y utilizalo como tu modelo final. Reentrenalo con todos tus datos de entrenamiento.\n"
      ]
    },
    {
      "cell_type": "markdown",
      "metadata": {
        "id": "fuR0T_uFikbK",
        "colab_type": "text"
      },
      "source": [
        "**R/ Con base a lo anterior se escoge el MLP como el mejor modelo para reentrenar y seguir con la clasificacion de los documentos.**"
      ]
    },
    {
      "cell_type": "code",
      "metadata": {
        "id": "4p1bXsrBWvCC",
        "colab_type": "code",
        "colab": {}
      },
      "source": [
        "tf_idfds = TfidfVectorizer(stop_words=stops, tokenizer = nltk.word_tokenize, ngram_range=(1, 2))\n",
        "movie_reviews.data = tf_idfds.fit_transform(movie_reviews.data)"
      ],
      "execution_count": null,
      "outputs": []
    },
    {
      "cell_type": "code",
      "metadata": {
        "id": "5n7ykKFV33Jo",
        "colab_type": "code",
        "colab": {
          "base_uri": "https://localhost:8080/",
          "height": 153
        },
        "outputId": "261a734e-a5c8-4b88-b0b4-b58ed03ffcfe"
      },
      "source": [
        "eclf = clf4  \n",
        "eclf.fit(movie_reviews.data, movie_reviews.target)"
      ],
      "execution_count": null,
      "outputs": [
        {
          "output_type": "execute_result",
          "data": {
            "text/plain": [
              "MLPClassifier(activation='relu', alpha=0.0001, batch_size='auto', beta_1=0.9,\n",
              "              beta_2=0.999, early_stopping=False, epsilon=1e-08,\n",
              "              hidden_layer_sizes=(5, 5), learning_rate='constant',\n",
              "              learning_rate_init=0.001, max_fun=15000, max_iter=200,\n",
              "              momentum=0.9, n_iter_no_change=10, nesterovs_momentum=True,\n",
              "              power_t=0.5, random_state=42, shuffle=True, solver='adam',\n",
              "              tol=0.0001, validation_fraction=0.1, verbose=False,\n",
              "              warm_start=False)"
            ]
          },
          "metadata": {
            "tags": []
          },
          "execution_count": 69
        }
      ]
    },
    {
      "cell_type": "code",
      "metadata": {
        "id": "iaxouuuz2FHz",
        "colab_type": "code",
        "colab": {
          "base_uri": "https://localhost:8080/",
          "height": 34
        },
        "outputId": "a555f465-2472-48cc-c323-34d710266207"
      },
      "source": [
        "# Guardamos el modelo\n",
        "from sklearn.externals import joblib\n",
        "joblib.dump(eclf, 'sentiment.pkl') "
      ],
      "execution_count": null,
      "outputs": [
        {
          "output_type": "execute_result",
          "data": {
            "text/plain": [
              "['sentiment.pkl']"
            ]
          },
          "metadata": {
            "tags": []
          },
          "execution_count": 70
        }
      ]
    },
    {
      "cell_type": "code",
      "metadata": {
        "id": "zoMmZFsGcp_L",
        "colab_type": "code",
        "colab": {
          "base_uri": "https://localhost:8080/",
          "height": 340
        },
        "outputId": "900820b2-7f5c-4538-cd96-320b4123833c"
      },
      "source": [
        "y_pred"
      ],
      "execution_count": null,
      "outputs": [
        {
          "output_type": "execute_result",
          "data": {
            "text/plain": [
              "array([0, 1, 0, 1, 0, 1, 0, 0, 1, 1, 0, 0, 1, 0, 0, 0, 1, 1, 0, 0, 0, 1,\n",
              "       1, 0, 0, 0, 1, 0, 1, 1, 1, 0, 0, 0, 1, 0, 1, 0, 1, 1, 0, 1, 0, 0,\n",
              "       1, 0, 0, 0, 0, 0, 1, 1, 0, 1, 0, 1, 0, 1, 1, 1, 1, 1, 0, 0, 0, 1,\n",
              "       1, 0, 0, 1, 1, 1, 0, 0, 0, 0, 0, 1, 1, 0, 1, 0, 0, 1, 1, 0, 1, 0,\n",
              "       1, 1, 1, 0, 1, 1, 0, 1, 0, 0, 0, 1, 0, 1, 0, 0, 0, 1, 1, 0, 0, 0,\n",
              "       0, 1, 0, 1, 0, 0, 1, 0, 1, 1, 1, 1, 1, 0, 1, 1, 0, 1, 0, 0, 0, 0,\n",
              "       0, 0, 1, 1, 0, 1, 0, 1, 0, 0, 1, 1, 0, 0, 1, 0, 0, 0, 0, 0, 1, 0,\n",
              "       1, 0, 1, 1, 1, 1, 0, 0, 0, 1, 0, 0, 1, 1, 1, 0, 0, 1, 0, 0, 1, 0,\n",
              "       0, 0, 0, 1, 0, 1, 1, 1, 0, 0, 1, 0, 1, 1, 0, 0, 0, 0, 1, 1, 0, 0,\n",
              "       0, 1, 0, 1, 0, 0, 1, 1, 0, 0, 0, 1, 1, 0, 0, 0, 0, 1, 0, 0, 0, 0,\n",
              "       1, 1, 1, 1, 0, 0, 1, 0, 1, 1, 0, 0, 0, 0, 1, 1, 1, 1, 0, 1, 1, 0,\n",
              "       0, 1, 0, 0, 1, 0, 0, 0, 1, 0, 0, 0, 1, 0, 0, 1, 1, 1, 0, 0, 0, 1,\n",
              "       0, 1, 1, 0, 0, 1, 1, 0, 1, 0, 1, 0, 0, 1, 0, 0, 0, 0, 1, 1, 1, 1,\n",
              "       1, 1, 0, 1, 1, 1, 0, 1, 0, 0, 0, 0, 0, 1, 1, 0, 0, 0, 0, 1, 1, 0,\n",
              "       1, 0, 0, 1, 0, 0, 0, 0, 1, 1, 1, 0, 0, 0, 1, 0, 1, 1, 0, 1, 0, 0,\n",
              "       0, 0, 1, 1, 1, 1, 1, 0, 1, 1, 1, 0, 0, 1, 1, 0, 1, 1, 1, 0, 0, 1,\n",
              "       0, 0, 1, 0, 0, 0, 1, 0, 1, 0, 0, 1, 0, 1, 0, 1, 1, 1, 1, 0, 0, 1,\n",
              "       0, 0, 0, 0, 1, 0, 0, 1, 0, 0, 1, 0, 1, 0, 0, 0, 0, 1, 0, 1, 0, 0,\n",
              "       1, 1, 1, 1])"
            ]
          },
          "metadata": {
            "tags": []
          },
          "execution_count": 71
        }
      ]
    },
    {
      "cell_type": "markdown",
      "metadata": {
        "id": "MTewY7vC2FH5",
        "colab_type": "text"
      },
      "source": [
        "## Clasificación de reviews de Rocky 4."
      ]
    },
    {
      "cell_type": "markdown",
      "metadata": {
        "id": "tYSwBEkY2FH5",
        "colab_type": "text"
      },
      "source": [
        "A partir de [criticas de la película Rocky 4](https://www.rottentomatoes.com/m/rocky_iv/reviews/?type=user) veamos como las clasifica nuestro mejor modelo"
      ]
    },
    {
      "cell_type": "code",
      "metadata": {
        "id": "fxYhDJBdc5Sl",
        "colab_type": "code",
        "colab": {}
      },
      "source": [
        "reviews_new = [\"Stallone creates credible villains worthy of his heroic character.\",\n",
        "               \"Another brilliant Rocky film, probably my favourite one out of the lot\",\n",
        "               \"Yeah, this movie sucks.\",\n",
        "               \"My favourite rocky film! So good so much heart. Slightly better than 2\",\n",
        "               \"What has this got to do with boxing. Also everyone looked like dolls. Also if you are a real true boxing fan (not casuals), you would understand that this stupidity is no description of boxing!!\",\n",
        "               \"The new film's narrative is stripped down to essentials, which gives it an emblematic quality.\",\n",
        "               \"Absurdly ridiculous, this just isn't a good movie at all\", \n",
        "               \"Very basic and predictable but still an okay movie. No special music to save this one.\", \n",
        "              \"Rocky 4 is an extremely ambitious movie that is definitely worth watching.\",\n",
        "              'Highly beautiful',\n",
        "               \"If it wasn't for the robots (WTF????), and the painfully overwritten lines of an absurdly dogmatic persuasion, then this would otherwise be nothing more than an interminable series of mildly rousing montages. There are some unintentionally funny bits though, and Dolph's Ivan showcases the best and worst of all Rocky's opponents.\",\n",
        "              \"While all aspects of realism is thrown out the window, ROCKY IV is an adrenaline rush of action and excitment, with an incredible soundtrack and arguably the best movie fight in history between Balboa and Drago\",\n",
        "              \"Just like the songs, exercise routines and repetitive clips, it seems redundant to add another installment in this already falling franchise when you clearly lack material. Rocky IV is petty, childish and seems overlong despite of its 91 minutes of run time for it merely has an idea of a TV drama episode which is stretched to a point of exhaustion. Its painful to watch Sylvester Stallone go through this enormous amount of training and hardly make a point out there. He fails on all the levels here; writer, director and actor, to deliver any loose end of the thread for the audience to hang on to. Rocky IV is predictable, loosely written and choreographed and executed unsupervised.\"]\n",
        "reviews_new_counts = tf_idfds.transform(reviews_new)\n",
        "reviews_new_tfidf = tf_idfds.transform(reviews_new)"
      ],
      "execution_count": null,
      "outputs": []
    },
    {
      "cell_type": "code",
      "metadata": {
        "id": "P_GoOiCwc-Si",
        "colab_type": "code",
        "colab": {}
      },
      "source": [
        "pred = eclf.predict(reviews_new_tfidf)"
      ],
      "execution_count": null,
      "outputs": []
    },
    {
      "cell_type": "code",
      "metadata": {
        "id": "jBjpyR97dBmV",
        "colab_type": "code",
        "colab": {
          "base_uri": "https://localhost:8080/",
          "height": 479
        },
        "outputId": "1ccc9872-1994-4807-ba63-dc82208cf070"
      },
      "source": [
        "for review, category in zip(reviews_new, pred):\n",
        "    print('%r => %s \\n' % (review, movie_reviews.target_names[category]))"
      ],
      "execution_count": null,
      "outputs": [
        {
          "output_type": "stream",
          "text": [
            "'Stallone creates credible villains worthy of his heroic character.' => pos \n",
            "\n",
            "'Another brilliant Rocky film, probably my favourite one out of the lot' => pos \n",
            "\n",
            "'Yeah, this movie sucks.' => neg \n",
            "\n",
            "'My favourite rocky film! So good so much heart. Slightly better than 2' => pos \n",
            "\n",
            "'What has this got to do with boxing. Also everyone looked like dolls. Also if you are a real true boxing fan (not casuals), you would understand that this stupidity is no description of boxing!!' => neg \n",
            "\n",
            "\"The new film's narrative is stripped down to essentials, which gives it an emblematic quality.\" => neg \n",
            "\n",
            "\"Absurdly ridiculous, this just isn't a good movie at all\" => neg \n",
            "\n",
            "'Very basic and predictable but still an okay movie. No special music to save this one.' => neg \n",
            "\n",
            "'Rocky 4 is an extremely ambitious movie that is definitely worth watching.' => pos \n",
            "\n",
            "'Highly beautiful' => pos \n",
            "\n",
            "\"If it wasn't for the robots (WTF????), and the painfully overwritten lines of an absurdly dogmatic persuasion, then this would otherwise be nothing more than an interminable series of mildly rousing montages. There are some unintentionally funny bits though, and Dolph's Ivan showcases the best and worst of all Rocky's opponents.\" => neg \n",
            "\n",
            "'While all aspects of realism is thrown out the window, ROCKY IV is an adrenaline rush of action and excitment, with an incredible soundtrack and arguably the best movie fight in history between Balboa and Drago' => pos \n",
            "\n",
            "'Just like the songs, exercise routines and repetitive clips, it seems redundant to add another installment in this already falling franchise when you clearly lack material. Rocky IV is petty, childish and seems overlong despite of its 91 minutes of run time for it merely has an idea of a TV drama episode which is stretched to a point of exhaustion. Its painful to watch Sylvester Stallone go through this enormous amount of training and hardly make a point out there. He fails on all the levels here; writer, director and actor, to deliver any loose end of the thread for the audience to hang on to. Rocky IV is predictable, loosely written and choreographed and executed unsupervised.' => neg \n",
            "\n"
          ],
          "name": "stdout"
        }
      ]
    }
  ]
}